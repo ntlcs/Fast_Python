{
  "nbformat": 4,
  "nbformat_minor": 0,
  "metadata": {
    "colab": {
      "provenance": [],
      "toc_visible": true,
      "authorship_tag": "ABX9TyMKlae7+KX2QfnQB8f7diGV",
      "include_colab_link": true
    },
    "kernelspec": {
      "name": "python3",
      "display_name": "Python 3"
    },
    "language_info": {
      "name": "python"
    }
  },
  "cells": [
    {
      "cell_type": "markdown",
      "metadata": {
        "id": "view-in-github",
        "colab_type": "text"
      },
      "source": [
        "<a href=\"https://colab.research.google.com/github/ntlcs/Fast_Python/blob/main/Fast.ipynb\" target=\"_parent\"><img src=\"https://colab.research.google.com/assets/colab-badge.svg\" alt=\"Open In Colab\"/></a>"
      ]
    },
    {
      "cell_type": "code",
      "execution_count": null,
      "metadata": {
        "id": "nsTqOXNlNvgC",
        "colab": {
          "base_uri": "https://localhost:8080/"
        },
        "outputId": "9a751c71-f34d-48d9-ab01-9b7bf865177f"
      },
      "outputs": [
        {
          "output_type": "stream",
          "name": "stdout",
          "text": [
            "Digite o seu nome: Marcio\n",
            "Digite o seu salário fixo: 1500\n",
            "Digite a quantidade de aulas:5\n",
            "O professor Marcio recebe um salário de R$  1500.0 e ministra  5 por mês \n",
            "\n"
          ]
        }
      ],
      "source": [
        "#Desenvolva um programa em que o professor possa inserir o seu nome, o seu salário fixo, e o total de aulas que ele ministra por mês. Após isso, exiba na tela as informações.\n",
        "\n",
        "nome = input(\"Digite o seu nome: \")\n",
        "salario = float(input(\"Digite o seu salário fixo: \"))\n",
        "aulas = int(input(\"Digite a quantidade de aulas:\"))\n",
        "\n",
        "print(\"O professor\", nome, \"recebe um salário de R$ \", salario, \"e ministra \", aulas, \"por mês \\n\")\n",
        "\n"
      ]
    },
    {
      "cell_type": "code",
      "source": [
        "#Desenvolva um programa que declare duas variáveis chamadas altura e peso. A essas variáveis , atribua os valores 1.65 e 56kg.\n",
        "#Na sequência, peça ao usuário para inserir a informação se ele pratica atividades físicas e quantos litros de água ele bebe por dia.\n",
        "#Exiba todas as informações na tela.\n",
        "\n",
        "altura = 1.65\n",
        "peso = 56.0\n",
        "\n",
        "atividade  =input(\"Você pratica atividade física?  \")\n",
        "litros = float(input(\"Quantos litros de água você bebe por dia? \"))\n",
        "\n",
        "print (\"O jovem de \", altura, \"de altura e\", peso, \"kg, ele pratica atividade fisica?\", atividade, \"e bebe\", litros, \"de água por dia \\n \")\n"
      ],
      "metadata": {
        "colab": {
          "base_uri": "https://localhost:8080/"
        },
        "id": "APtJSOMhP6z2",
        "outputId": "bd3fe047-44c9-42b8-eebf-c706a07a1fc8"
      },
      "execution_count": null,
      "outputs": [
        {
          "output_type": "stream",
          "name": "stdout",
          "text": [
            "Você pratica atividade física?  sim\n",
            "Quantos litros de água você bebe por dia? 2\n",
            "O jovem de  1.65 de altura e 56.0 kg, ele pratica atividade fisica? sim e bebe 2.0 de água por dia \n",
            " \n"
          ]
        }
      ]
    },
    {
      "cell_type": "code",
      "source": [
        "#O Cesar deseja enviar um bônus para seus funcionários.\n",
        "#Escreva um programa que receba o valor do salário mensal do funcionário e sobre esse salário, calcule 10%.\n",
        "#Ao final, imprima na tela salário incial, bônus e salário final.\n",
        "\n",
        "salario_mensal = float (input (\"Digite o valor do salário mensal do funcionário:\"))\n",
        "bonus = salario_mensal * 0.10\n",
        "salario_final = salario_mensal + bonus\n",
        "\n",
        "print (\"Salário inicial R$ \", salario_mensal)\n",
        "print (\"Salário final com bônus R$ \", salario_final)\n",
        "print (\"Bônus R$ \", bonus)\n"
      ],
      "metadata": {
        "colab": {
          "base_uri": "https://localhost:8080/"
        },
        "id": "4VDQEFW1SPWw",
        "outputId": "8c749a40-d3c3-4597-a0f3-ea398bc178f5"
      },
      "execution_count": null,
      "outputs": [
        {
          "output_type": "stream",
          "name": "stdout",
          "text": [
            "Digite o valor do salário mensal do funcionário:1300\n",
            "Salário inicial R$  1300.0\n",
            "Salário final com bônus R$  1430.0\n",
            "Bônus R$  130.0\n"
          ]
        }
      ]
    },
    {
      "cell_type": "code",
      "source": [
        "#Desenvolva um programa que solicite que o aluno insira a sua idade e que a professora insira o seu salário.\n",
        "#Na sequência, mostre na tela se é verdadeiro ou falso que:\n",
        "# - O aluno é maior de idade;\n",
        "# - O professor recebe mais que um salário mínimo;\n",
        "\n",
        "idade_aluno = int (input(\"Digite a idade do aluno: \"))\n",
        "salario_professor = float(input(\"Digite o salário do professor: \"))\n",
        "\n",
        "print(\"É verdadeiro que o aluno é maior de idade: \", idade_aluno >=18)\n",
        "print(\"É verdadeiro que o professor recebe mais que um salário mínimo:\" , salario_professor > 1320.00)\n"
      ],
      "metadata": {
        "colab": {
          "base_uri": "https://localhost:8080/"
        },
        "id": "2WoyI8aFTiFQ",
        "outputId": "c96255ed-2795-4ef4-b159-5ac73ef0cfeb"
      },
      "execution_count": null,
      "outputs": [
        {
          "output_type": "stream",
          "name": "stdout",
          "text": [
            "Digite a idade do aluno: 11\n",
            "Digite o salário do professor: 1000\n",
            "É verdadeiro que o aluno é maior de idade:  False\n",
            "É verdadeiro que o professor recebe mais que um salário mínimo: False\n"
          ]
        }
      ]
    },
    {
      "cell_type": "code",
      "source": [
        "#Uma revendedora de carros usados paga a seus vendedores um salário fixo por mês, mais uma comissão também fixa para cada carro vendido e mais 5% do valor das vendas por eles efetuadas.\n",
        "#Escreva um algoritmo que leia o número de carros vendidospor uma pessoa vendedora, o valor total de suas vendas, e o salário fixo e a comissão que a pessoa receberá por arro vendido.\n",
        "#Cacule e escreva o salário final.\n",
        "\n",
        "quant_carros = int(input(\"Informe a quantidade de carros vendidos: \"))\n",
        "vendas = float(input(\"Informe o valor total em vendas: \"))\n",
        "salario_fixo = float(input(\"Informe o seu salário fixo mensal: \"))\n",
        "comissao = float(input(\"Informe o valor da comissão por carro vendido: \"))\n",
        "\n",
        "salario_final = salario_fixo + (comissao * quant_carros) + (vendas * 0.05)\n",
        "\n",
        "print(f\"Salário final do vendedor: R$ {salario_final:.2f}\")"
      ],
      "metadata": {
        "colab": {
          "base_uri": "https://localhost:8080/"
        },
        "id": "nrqeHoqxWC8o",
        "outputId": "330cdaf2-4c83-4ef4-b490-0576615c28c4"
      },
      "execution_count": null,
      "outputs": [
        {
          "output_type": "stream",
          "name": "stdout",
          "text": [
            "Informe a quantidade de carros vendidos: 10\n",
            "Informe o valor total em vendas: 5000\n",
            "Informe o seu salário fixo mensal: 2000\n",
            "Informe o valor da comissão por carro vendido: 500\n",
            "Salário final do vendedor: R$ 7250.00\n"
          ]
        }
      ]
    },
    {
      "cell_type": "code",
      "source": [
        "#Peça ao usuário para inserir a temperatura em fahrenheit. Na sequência, calcule e exiba na tela a temperatura em celsius.\n",
        "temperatura = float(input(\"Digite a temperatura em fahrenheit: \"))\n",
        "celsius = (temperatura-32)/1.8\n",
        "\n",
        "print(f\"A temperatura em celsius é : {celsius:.2f}\")\n"
      ],
      "metadata": {
        "colab": {
          "base_uri": "https://localhost:8080/"
        },
        "id": "ICYGPszWYiBj",
        "outputId": "f31e31e4-621d-4717-f91a-e967a563c32b"
      },
      "execution_count": null,
      "outputs": [
        {
          "output_type": "stream",
          "name": "stdout",
          "text": [
            "Digite a temperatura em fahrenheit: 250\n",
            "A temperatura em celsius é : 121.11\n"
          ]
        }
      ]
    },
    {
      "cell_type": "code",
      "source": [
        "#Desenvolva um programa que leia os valores de A, B e C de uma equação do segundo grau e mostre o valor de delta.\n",
        "\n",
        "a = int(input(\"Digite valor de A: \"))\n",
        "b = int(input(\"Digite valor de B: \"))\n",
        "c = int(input(\"Digite valor de C: \"))\n",
        "\n",
        "delta = b**2 - (4*a*c)\n",
        "\n",
        "print(\"O valor do delta é : \", delta)\n",
        "\n"
      ],
      "metadata": {
        "colab": {
          "base_uri": "https://localhost:8080/"
        },
        "id": "P9axQ18hZWFh",
        "outputId": "201b62bb-2c47-4aed-e741-85b556e02613"
      },
      "execution_count": null,
      "outputs": [
        {
          "output_type": "stream",
          "name": "stdout",
          "text": [
            "Digite valor de A: 2\n",
            "Digite valor de B: 3\n",
            "Digite valor de C: 5\n",
            "O valor do delta é :  -31\n"
          ]
        }
      ]
    },
    {
      "cell_type": "code",
      "source": [
        "#Desenvolva um programa que leia a largura e altura de uma parede, calcule e mostre a àrea a ser pintada e a qauntidade de tenta necessária para o serviço,\n",
        "#sabendo que cada litro de tinta pinta uma área de 2 metros quadrados (m²)\n",
        "\n",
        "\n",
        "largura = float(input( \"Digite o valor da largura: \"))\n",
        "altura = float(input(\"Digite o valor da altura: \"))\n",
        "\n",
        "area = largura * altura\n",
        "quant_tinta = area/2\n",
        "\n",
        "print(\"Área a ser pintada é: \", area)\n",
        "print(f\"Quantidade de tinta necessária é: \", quant_tinta)"
      ],
      "metadata": {
        "colab": {
          "base_uri": "https://localhost:8080/"
        },
        "id": "DnBvOZelaL_x",
        "outputId": "237b614f-5a33-4a8a-baa4-f5b086118796"
      },
      "execution_count": null,
      "outputs": [
        {
          "output_type": "stream",
          "name": "stdout",
          "text": [
            "Digite o valor da largura: 5\n",
            "Digite o valor da altura: 6\n",
            "Área a ser pintada é:  30.0\n",
            "Quantidade de tinta necessária é:  15.0\n"
          ]
        }
      ]
    },
    {
      "cell_type": "code",
      "source": [
        "#escreva um programa que leia três valores com ponto flutuante: A, B e C. Em seguida, calcule e mostre:\n",
        "#área do triângulo retângulo que tem o valor de A como base e o valor de C como altura.\n",
        "#área do círculo que tem como raio o valor de C.\n",
        "#área do trapézio que tem a e b por bases e Cpor altura.\n",
        "#área do quadrado que tem como lado o valor de B.\n",
        "#área do retângulo que tem lados A e B.\n",
        "import math\n",
        "\n",
        "A = float(input(\"Digite valor de A: \"))\n",
        "B = float(input(\"Digite valor de B: \"))\n",
        "C = float(input(\"Digite valor de C: \"))\n",
        "\n",
        "area_triangulo = A*C\n",
        "area_circulo = math.pi*C**2\n",
        "area_trapezio = 1/2*C*(A+B)\n",
        "area_quadrado = B**2\n",
        "area_retangulo = A*B\n",
        "\n",
        "\n",
        "print(\"Área do Triângulo: \", area_triangulo)\n",
        "print(f\"Área do Círculo: \", area_circulo)\n",
        "print(\"Área do Trapézio: \", area_trapezio)\n",
        "print(\"Área do Quadrado: \", area_quadrado)\n",
        "print(\"Área do Retângulo: \", area_retangulo)\n",
        "\n",
        "\n",
        "\n"
      ],
      "metadata": {
        "colab": {
          "base_uri": "https://localhost:8080/"
        },
        "id": "3zRPHCOxb1i6",
        "outputId": "d4c69d10-6cb5-4b6e-d004-f7a45e30c4c2"
      },
      "execution_count": null,
      "outputs": [
        {
          "output_type": "stream",
          "name": "stdout",
          "text": [
            "Digite valor de A: 2\n",
            "Digite valor de B: 3\n",
            "Digite valor de C: 5\n",
            "Área do Triângulo:  10.0\n",
            "Área do Círculo:  78.53981633974483\n",
            "Área do Trapézio:  12.5\n",
            "Área do Quadrado:  9.0\n",
            "Área do Retângulo:  6.0\n"
          ]
        }
      ]
    },
    {
      "cell_type": "code",
      "source": [
        "#Desenvolva um programa que recebe o nome de um ciclista,a distância que ele percorre em KM e o tempo que gastou nesse percurso em horas.\n",
        "#O programa deverá calcular a velocidade média do ciclista e, exibi-la na tela duas vezes, uma em KM/H e outra em M/S.\n",
        "#Dividimos por 3.6 quando queremos converter de KM/H para M/S.\n",
        "\n",
        "nome = input(\"Digite o nome do ciclista: \")\n",
        "distancia = float(input(\"Digite a distância: \"))\n",
        "tempo = float(input(\"Digite o tempo: \"))\n",
        "velocidade = distancia * tempo\n",
        "print(\"Velocidade média em Km/h:\" , velocidade)\n",
        "print(\"Velocidade em m/s:\", velocidade/3.6)\n"
      ],
      "metadata": {
        "colab": {
          "base_uri": "https://localhost:8080/"
        },
        "id": "33Lu8ilSgTqz",
        "outputId": "45b5ae66-bc5b-4a66-afc5-9544ac67582d"
      },
      "execution_count": null,
      "outputs": [
        {
          "output_type": "stream",
          "name": "stdout",
          "text": [
            "Digite o nome do ciclista: Marcio\n",
            "Digite a distância: 15\n",
            "Digite o tempo: 2\n",
            "Velocidade média em Km/h: 30.0\n",
            "Velocidade em m/s: 8.333333333333334\n"
          ]
        }
      ]
    },
    {
      "cell_type": "code",
      "source": [
        "#Desenvolva um programa para calcular a redução do tempo de vida de um fumante. Pergunte a quantidade média de cigarros fumados por dia e por quantos anos ele já fumou.\n",
        "#Considere que um fumante perde 10 min de vida a cada cigarro. Calcule e exiba quantos dias de vida o fumante perdue até o momento.\n",
        "\n",
        "fumados = int(input(\"Qual a quantidade média de cigarros fumados por dia? \"))\n",
        "anos_fumando = int(input(\"Fuma a quantos anos? \"))\n",
        "\n",
        "dias_fumando = (fumados * 365) * anos_fumando\n",
        "vida_perdida = dias_fumando*10\n",
        "dias_perdidos = int(vida_perdida/1440)\n",
        "\n",
        "\n",
        "print(\"Vida perdida em dias: \", vida_perdida)\n",
        "\n"
      ],
      "metadata": {
        "colab": {
          "base_uri": "https://localhost:8080/"
        },
        "id": "jDrrS2G1SQA5",
        "outputId": "3d767428-d82c-42ca-e68a-c3b282a64e56"
      },
      "execution_count": null,
      "outputs": [
        {
          "output_type": "stream",
          "name": "stdout",
          "text": [
            "Qual a quantidade média de cigarros fumados por dia? 2\n",
            "Fuma a quantos anos? 10\n",
            "Vida perdida em dias:  73000\n"
          ]
        }
      ]
    },
    {
      "cell_type": "code",
      "source": [
        "#Desenvolva um programa que receba dois valores. Na sequência, verifique se a equação 4a+3=b é verdadeira. Caso seja falsa, o programa encerra sua execução.\n",
        "\n",
        "a = int(input(\"Digite o primeiro valor: \"))\n",
        "b = int(input(\"Digite o segundo valor: \"))\n",
        "print(a)\n",
        "print(b)\n",
        "\n",
        "if (4*a)+3==b:\n",
        "  print(\"Essa equação é verdadeira\")"
      ],
      "metadata": {
        "colab": {
          "base_uri": "https://localhost:8080/"
        },
        "id": "UUJADJ8uVwaq",
        "outputId": "a36e80b6-ea31-47d1-f605-21665c3c7e75"
      },
      "execution_count": 18,
      "outputs": [
        {
          "output_type": "stream",
          "name": "stdout",
          "text": [
            "Digite o primeiro valor: 1\n",
            "Digite o segundo valor: 7\n",
            "1\n",
            "7\n",
            "Essa equação é verdadeira\n"
          ]
        }
      ]
    },
    {
      "cell_type": "code",
      "source": [
        "#desenvolva um programa que pergunte a velocidade de um carro. caso a velocidade ultrapasse 80km/h, exiba uma mensagem dizendo que o usuário foi multado.\n",
        "#Nesse caso, exiba o valor da multa, cobrando R$5,00 por cada km acima da velocidade permitida.\n",
        "\n",
        "\n",
        "velocidade=float(input(\"Qual é a velocidade do carro em km/h? \"))\n",
        "if velocidade > 80:\n",
        "  velocidade_acima=velocidade - 80\n",
        "  valor_multa=velocidade_acima*5\n",
        "\n",
        "  print(\"você foi multado\")\n",
        "  print(f\"O valor da multa é R${valor_multa:.2f}\")\n",
        "\n"
      ],
      "metadata": {
        "colab": {
          "base_uri": "https://localhost:8080/"
        },
        "id": "hRLBmvZsZKgB",
        "outputId": "6813ff06-f1fb-484a-8a37-7ee7ee3f8ed9"
      },
      "execution_count": 20,
      "outputs": [
        {
          "output_type": "stream",
          "name": "stdout",
          "text": [
            "Qual é a velocidade do carro em km/h? 105\n",
            "você foi multado\n",
            "O valor da multa é R$125.00\n"
          ]
        }
      ]
    },
    {
      "cell_type": "code",
      "source": [
        "#Desenvolva um programa que leia dois números e efetue a adição. Caso o resultado seja maior que 10, este deverá ser apresentado somando-se a ele mais 5;\n",
        "#caso o resultado seja menor ou igual a 10, este deverá ser apresentado subtraindo-se 5.\n",
        "\n",
        "num_A=int(input(\"Digite o primeiro valor: \"))\n",
        "num_B=int(input(\"Digite o segundo valor: \"))\n",
        "soma=num_A+num_B\n",
        "if soma>10:\n",
        "  print(\"O Resultado é: \", soma+5)\n",
        "else:\n",
        "  print(\"O resultado é: \", soma-5)\n"
      ],
      "metadata": {
        "colab": {
          "base_uri": "https://localhost:8080/"
        },
        "id": "yJ8mBc2XafpQ",
        "outputId": "6c187d0d-d006-47da-9ea6-7d2b2e12c6ed"
      },
      "execution_count": 23,
      "outputs": [
        {
          "output_type": "stream",
          "name": "stdout",
          "text": [
            "Digite o primeiro valor: 10\n",
            "Digite o segundo valor: 35\n",
            "O Resultado é:  50\n"
          ]
        }
      ]
    },
    {
      "cell_type": "code",
      "source": [
        "#Numa promoção exclusiva, uma loja quer dar desconto para todos, mas especialmente para as mulheres.\n",
        "#Faça um programa que leia nome, sexo(M e F) e o valordas compras do cliente e calsule o desconto.\n",
        "#Sabendo que:\n",
        "# - Se for mulher, ganha 13% de desconto;\n",
        "# - Se não ganha 5% de desconto;\n",
        "\n",
        "nome=input(\"Digite o nome do cliente: \")\n",
        "sexo=input(\"Digite o sexo do cliente (M ou F): \")\n",
        "valor_compras=float(input(\"Digite o valor das compras do cliente: \"))\n",
        "\n",
        "if sexo==\"F\":\n",
        "  desconto = valor_compras*0.13\n",
        "\n",
        "else:\n",
        "  desconto=valor_compras*0.5\n",
        "\n",
        "valor_total=valor_compras - desconto\n",
        "\n",
        "print (\"cliente: \", nome)\n",
        "print (\"valor compras R$: \", valor_compras)\n",
        "print (\"desconto R$: \", desconto)\n",
        "print (\"valor a pagar R$: \", valor_total)\n",
        "\n",
        "\n"
      ],
      "metadata": {
        "colab": {
          "base_uri": "https://localhost:8080/"
        },
        "id": "ij27BRa0fEdB",
        "outputId": "86df5017-3554-4277-dfe9-be35e3abf03e"
      },
      "execution_count": 25,
      "outputs": [
        {
          "output_type": "stream",
          "name": "stdout",
          "text": [
            "Digite o nome do cliente: Natalia\n",
            "Digite o sexo do cliente (M ou F): F\n",
            "Digite o valor das compras do cliente: 300\n",
            "cliente:  Natalia\n",
            "valor compras R$:  300.0\n",
            "desconto R$:  39.0\n",
            "valor a pagar R$:  261.0\n"
          ]
        }
      ]
    },
    {
      "cell_type": "code",
      "source": [
        "#Escreva um progarama que, dado o level do voltorb, imprima de qaunto foi o choque em w segundo a tabela.\n",
        "\n",
        "\n",
        "level=int(input(\"Digite o level do voltorb: \"))\n",
        "if level>=1and level <=20:\n",
        "  potência=20+level**3\n",
        "elif level>=21 and level <=40:\n",
        "  potência=8000+(level-10)**2\n",
        "elif level>=41 and level<=60:\n",
        "  potência=9000+(5*level)\n",
        "elif level>=61and level<=80:\n",
        "  potência=9300+(2*level)\n",
        "elif level>=81and level<=100:\n",
        "  potência=9500+level\n",
        "else: print(\"Valor inválido\")\n",
        "print(\"A intensidade do choque foi: \", potência)"
      ],
      "metadata": {
        "colab": {
          "base_uri": "https://localhost:8080/"
        },
        "id": "L5uXtQXLjrT7",
        "outputId": "791dd426-e39e-4dfa-9f44-5a7b04f3275e"
      },
      "execution_count": 28,
      "outputs": [
        {
          "output_type": "stream",
          "name": "stdout",
          "text": [
            "Digite o level do voltorb: 5\n",
            "A intensidade do choque foi:  145\n"
          ]
        }
      ]
    },
    {
      "cell_type": "code",
      "source": [
        "#Desenvolva um programa e um fluxograma de bilheteria de teatro, que após inserida a idade de uma pessoa seja indicado o valor do ingresso segundo as regras:\n",
        "# a) a entrada para qualquer pessoa com menos de 4 anos ou maior que 60 é gratuito;\n",
        "# b) a entrada para qualquer pessoa com idade entre 4 e 18 anos custa 20 reais;\n",
        "# c) a entrada para qualquer pessoa com 18 ou mais custa 30 reais;\n",
        "\n",
        "idade=int(input(\"Digite a idade: \"))\n",
        "\n",
        "if idade<4 or idade>60:\n",
        "  print(\"O bilhete é gratuito\")\n",
        "\n",
        "elif idade>=4 and idade<18:\n",
        "  print(\"O bilhete custa R$20,00\")\n",
        "\n",
        "else:\n",
        "  print(\"O bilhete custa R$30,00\")"
      ],
      "metadata": {
        "colab": {
          "base_uri": "https://localhost:8080/"
        },
        "id": "anxqjnpLlZsT",
        "outputId": "bbd9f2c7-7aa5-496e-cea1-27d48190abdf"
      },
      "execution_count": 32,
      "outputs": [
        {
          "output_type": "stream",
          "name": "stdout",
          "text": [
            "Digite a idade: 36\n",
            "O bilhete custa R$30,00\n"
          ]
        }
      ]
    },
    {
      "cell_type": "code",
      "source": [
        "#A conta de energia de consumidores residenciais é calculada do seguinte modo:\n",
        "#se o consumo é de até 500KW, a tarifa é de R$0.02 por unidade de KW;\n",
        "#se o consumo é maior que 500KW, mas não excede 1000KW, a tarifa é de R$10.00 por unidade de KW;\n",
        "#se o consumo é maior que 1000KW, a tarifa é de R$35.00 por unidade de KW;\n",
        "#em toda conta é cobrada uma taxa básica de serviço de R$5.00 independentemente da quantidade de energia consumida.\n",
        "#Escreva um programa que leia o consumo de energia de uma residência e imprima o valor da sua conta de energia.\n",
        "\n",
        "KW=int(input(\"Digite a quantidade de KW da energia elétrica: \"))\n",
        "\n",
        "if KW<=500:\n",
        "  print(\"O valor a ser pago é: \", KW*0.02+5.00)\n",
        "elif KW>500 and KW<=1000:\n",
        "  print(\"O valor a ser pago é: \", KW*10+5.00)\n",
        "else:\n",
        "  print(\"O valor a ser pago é: \", KW*35+5.00)\n",
        ""
      ],
      "metadata": {
        "colab": {
          "base_uri": "https://localhost:8080/"
        },
        "id": "G0ID9m6Rn0uD",
        "outputId": "c06d373a-f8b0-4312-80e9-58c780ab4bd4"
      },
      "execution_count": 33,
      "outputs": [
        {
          "output_type": "stream",
          "name": "stdout",
          "text": [
            "Digite a quantidade de KW da energia elétrica: 1000\n",
            "O valor a ser pago é:  10005.0\n"
          ]
        }
      ]
    },
    {
      "cell_type": "code",
      "source": [
        "#Uma empresa deseja reavaliar os salários dos seus funcionários.\n",
        "#Será reajustado o salário daqueles que estão há 2 anos ou mais sem receber aumento.\n",
        "#com + de 10 anos = 30%\n",
        "#entre 5 a 10 anos = 20%\n",
        "#com menos de 5 anos = 10%\n",
        "#Faça um programa que receba as seguintes informações sobre o funcionário: ano de admissão, salário atual, último ano de reajuste salarial.\n",
        "#O programa deverá mostrar o novo salário do funcionário ou uma mensagem informando que ele não está apto ao reajuste salarial coletivo.\n",
        "\n",
        "import os\n",
        "os.system(\"cls\")\n",
        "from datetime import date\n",
        "\n",
        "ano_atual=date.today().year\n",
        "ano_admissao=int(input(\"Digite o ano da sua admissão: \"))\n",
        "salario_atual=float(input(\"Digite o seu salário atual: \"))\n",
        "ano_reajuste=int(input(\"Digite o último ano do reajuste salarial: \"))\n",
        "\n",
        "tempo_aumento=ano_atual - ano_reajuste\n",
        "anos_trabalhados=ano_atual - ano_admissao\n",
        "\n",
        "if tempo_aumento>=2:\n",
        "  if anos_trabalhados>10:\n",
        "    novo_salario=salario_atual*1.30\n",
        "  elif anos_trabalhados>=5 and anos_trabalhados<=10:\n",
        "    novo_salario=salario_atual*1.20\n",
        "  else:\n",
        "    novo_salario=salario_atual*1.10\n",
        "  print(\"\\nApto a receber reajuste salarial!\")\n",
        "  print(\"Novo salário R$ \",novo_salario)\n",
        "\n",
        "else:\n",
        "  print(\"\\nNão está apto a receber reajuste salarial!\")\n",
        "\n",
        "\n",
        "\n"
      ],
      "metadata": {
        "colab": {
          "base_uri": "https://localhost:8080/"
        },
        "id": "8ihah6-Ppx7N",
        "outputId": "fbe89bd9-06f0-4aa2-cb26-17f314ab3167"
      },
      "execution_count": 34,
      "outputs": [
        {
          "output_type": "stream",
          "name": "stdout",
          "text": [
            "Digite o ano da sua admissão: 2020\n",
            "Digite o seu salário atual: 2000\n",
            "Digite o último ano do reajuste salarial: 2021\n",
            "\n",
            "Apto a receber reajuste salarial!\n",
            "Novo salário R$  2200.0\n"
          ]
        }
      ]
    }
  ]
}