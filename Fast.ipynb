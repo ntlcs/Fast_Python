{
  "nbformat": 4,
  "nbformat_minor": 0,
  "metadata": {
    "colab": {
      "provenance": [],
      "toc_visible": true,
      "authorship_tag": "ABX9TyMCol81kNLL+5wlp1p561TN",
      "include_colab_link": true
    },
    "kernelspec": {
      "name": "python3",
      "display_name": "Python 3"
    },
    "language_info": {
      "name": "python"
    }
  },
  "cells": [
    {
      "cell_type": "markdown",
      "metadata": {
        "id": "view-in-github",
        "colab_type": "text"
      },
      "source": [
        "<a href=\"https://colab.research.google.com/github/ntlcs/Fast_Python/blob/main/Fast.ipynb\" target=\"_parent\"><img src=\"https://colab.research.google.com/assets/colab-badge.svg\" alt=\"Open In Colab\"/></a>"
      ]
    },
    {
      "cell_type": "code",
      "execution_count": 2,
      "metadata": {
        "id": "nsTqOXNlNvgC",
        "colab": {
          "base_uri": "https://localhost:8080/"
        },
        "outputId": "9a751c71-f34d-48d9-ab01-9b7bf865177f"
      },
      "outputs": [
        {
          "output_type": "stream",
          "name": "stdout",
          "text": [
            "Digite o seu nome: Marcio\n",
            "Digite o seu salário fixo: 1500\n",
            "Digite a quantidade de aulas:5\n",
            "O professor Marcio recebe um salário de R$  1500.0 e ministra  5 por mês \n",
            "\n"
          ]
        }
      ],
      "source": [
        "#Desenvolva um programa em que o profesor possa inserir o seu nome, o seu salário fixo, e o total de aulas que ele ministra por mês. Após isso, exiba na tela as informações.\n",
        "\n",
        "nome = input(\"Digite o seu nome: \")\n",
        "salario = float(input(\"Digite o seu salário fixo: \"))\n",
        "aulas = int(input(\"Digite a quantidade de aulas:\"))\n",
        "\n",
        "print(\"O professor\", nome, \"recebe um salário de R$ \", salario, \"e ministra \", aulas, \"por mês \\n\")\n",
        "\n"
      ]
    }
  ]
}