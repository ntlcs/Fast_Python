{
  "nbformat": 4,
  "nbformat_minor": 0,
  "metadata": {
    "colab": {
      "provenance": [],
      "toc_visible": true,
      "authorship_tag": "ABX9TyMu4wnnOqTEJU8Aeg6nxjBO",
      "include_colab_link": true
    },
    "kernelspec": {
      "name": "python3",
      "display_name": "Python 3"
    },
    "language_info": {
      "name": "python"
    }
  },
  "cells": [
    {
      "cell_type": "markdown",
      "metadata": {
        "id": "view-in-github",
        "colab_type": "text"
      },
      "source": [
        "<a href=\"https://colab.research.google.com/github/ntlcs/Fast_Python/blob/main/Fast.ipynb\" target=\"_parent\"><img src=\"https://colab.research.google.com/assets/colab-badge.svg\" alt=\"Open In Colab\"/></a>"
      ]
    },
    {
      "cell_type": "code",
      "execution_count": 2,
      "metadata": {
        "id": "nsTqOXNlNvgC",
        "colab": {
          "base_uri": "https://localhost:8080/"
        },
        "outputId": "9a751c71-f34d-48d9-ab01-9b7bf865177f"
      },
      "outputs": [
        {
          "output_type": "stream",
          "name": "stdout",
          "text": [
            "Digite o seu nome: Marcio\n",
            "Digite o seu salário fixo: 1500\n",
            "Digite a quantidade de aulas:5\n",
            "O professor Marcio recebe um salário de R$  1500.0 e ministra  5 por mês \n",
            "\n"
          ]
        }
      ],
      "source": [
        "#Desenvolva um programa em que o professor possa inserir o seu nome, o seu salário fixo, e o total de aulas que ele ministra por mês. Após isso, exiba na tela as informações.\n",
        "\n",
        "nome = input(\"Digite o seu nome: \")\n",
        "salario = float(input(\"Digite o seu salário fixo: \"))\n",
        "aulas = int(input(\"Digite a quantidade de aulas:\"))\n",
        "\n",
        "print(\"O professor\", nome, \"recebe um salário de R$ \", salario, \"e ministra \", aulas, \"por mês \\n\")\n",
        "\n"
      ]
    },
    {
      "cell_type": "code",
      "source": [
        "#Desenvolva um programa que declare duas variáveis chamadas altura e peso. A essas variáveis , atribua os valores 1.65 e 56kg.\n",
        "#Na sequência, peça ao usuário para inserir a informação se ele pratica atividades físicas e quantos litros de água ele bebe por dia.\n",
        "#Exiba todas as informações na tela.\n",
        "\n",
        "altura = 1.65\n",
        "peso = 56.0\n",
        "\n",
        "atividade  =input(\"Você pratica atividade física?  \")\n",
        "litros = float(input(\"Quantos litros de água você bebe por dia? \"))\n",
        "\n",
        "print (\"O jovem de \", altura, \"de altura e\", peso, \"kg, ele pratica atividade fisica?\", atividade, \"e bebe\", litros, \"de água por dia \\n \")\n"
      ],
      "metadata": {
        "colab": {
          "base_uri": "https://localhost:8080/"
        },
        "id": "APtJSOMhP6z2",
        "outputId": "bd3fe047-44c9-42b8-eebf-c706a07a1fc8"
      },
      "execution_count": 3,
      "outputs": [
        {
          "output_type": "stream",
          "name": "stdout",
          "text": [
            "Você pratica atividade física?  sim\n",
            "Quantos litros de água você bebe por dia? 2\n",
            "O jovem de  1.65 de altura e 56.0 kg, ele pratica atividade fisica? sim e bebe 2.0 de água por dia \n",
            " \n"
          ]
        }
      ]
    },
    {
      "cell_type": "code",
      "source": [
        "#O Cesar deseja enviar um bônus para seus funcionários.\n",
        "#Escreva um programa que receba o valor do salário mensal do funcionário e sobre esse salário, calcule 10%.\n",
        "#Ao final, imprima na tela salário incial, bônus e salário final.\n",
        "\n",
        "salario_mensal = float (input (\"Digite o valor do salário mensal do funcionário:\"))\n",
        "bonus = salario_mensal * 0.10\n",
        "salario_final = salario_mensal + bonus\n",
        "\n",
        "print (\"Salário inicial R$ \", salario_mensal)\n",
        "print (\"Salário final com bônus R$ \", salario_final)\n",
        "print (\"Bônus R$ \", bonus)\n"
      ],
      "metadata": {
        "colab": {
          "base_uri": "https://localhost:8080/"
        },
        "id": "4VDQEFW1SPWw",
        "outputId": "8c749a40-d3c3-4597-a0f3-ea398bc178f5"
      },
      "execution_count": 4,
      "outputs": [
        {
          "output_type": "stream",
          "name": "stdout",
          "text": [
            "Digite o valor do salário mensal do funcionário:1300\n",
            "Salário inicial R$  1300.0\n",
            "Salário final com bônus R$  1430.0\n",
            "Bônus R$  130.0\n"
          ]
        }
      ]
    },
    {
      "cell_type": "code",
      "source": [
        "#Desenvolva um programa que solicite que o aluno insira a sua idade e que a professora insira o seu salário.\n",
        "#Na sequência, mostre na tela se é verdadeiro ou falso que:\n",
        "# - O aluno é maior de idade;\n",
        "# - O professor recebe mais que um salário mínimo;\n",
        "\n",
        "idade_aluno = int (input(\"Digite a idade do aluno: \"))\n",
        "salario_professor = float(input(\"Digite o salário do professor: \"))\n",
        "\n",
        "print(\"É verdadeiro que o aluno é maior de idade: \", idade_aluno >=18)\n",
        "print(\"É verdadeiro que o professor recebe mais que um salário mínimo:\" , salario_professor > 1320.00)\n"
      ],
      "metadata": {
        "colab": {
          "base_uri": "https://localhost:8080/"
        },
        "id": "2WoyI8aFTiFQ",
        "outputId": "c96255ed-2795-4ef4-b159-5ac73ef0cfeb"
      },
      "execution_count": 5,
      "outputs": [
        {
          "output_type": "stream",
          "name": "stdout",
          "text": [
            "Digite a idade do aluno: 11\n",
            "Digite o salário do professor: 1000\n",
            "É verdadeiro que o aluno é maior de idade:  False\n",
            "É verdadeiro que o professor recebe mais que um salário mínimo: False\n"
          ]
        }
      ]
    },
    {
      "cell_type": "code",
      "source": [
        "#Uma revendedora de carros usados paga a seus vendedores um salário fixo por mês, mais uma comissão também fixa para cada carro vendido e mais 5% do valor das vendas por eles efetuadas.\n",
        "#Escreva um algoritmo que leia o número de carros vendidospor uma pessoa vendedora, o valor total de suas vendas, e o salário fixo e a comissão que a pessoa receberá por arro vendido.\n",
        "#Cacule e escreva o salário final.\n",
        "\n",
        "quant_carros = int(input(\"Informe a quantidade de carros vendidos: \"))\n",
        "vendas = float(input(\"Informe o valor total em vendas: \"))\n",
        "salario_fixo = float(input(\"Informe o seu salário fixo mensal: \"))\n",
        "comissao = float(input(\"Informe o valor da comissão por carro vendido: \"))\n",
        "\n",
        "salario_final = salario_fixo + (comissao * quant_carros) + (vendas * 0.05)\n",
        "\n",
        "print(f\"Salário final do vendedor: R$ {salario_final:.2f}\")"
      ],
      "metadata": {
        "colab": {
          "base_uri": "https://localhost:8080/"
        },
        "id": "nrqeHoqxWC8o",
        "outputId": "330cdaf2-4c83-4ef4-b490-0576615c28c4"
      },
      "execution_count": 7,
      "outputs": [
        {
          "output_type": "stream",
          "name": "stdout",
          "text": [
            "Informe a quantidade de carros vendidos: 10\n",
            "Informe o valor total em vendas: 5000\n",
            "Informe o seu salário fixo mensal: 2000\n",
            "Informe o valor da comissão por carro vendido: 500\n",
            "Salário final do vendedor: R$ 7250.00\n"
          ]
        }
      ]
    },
    {
      "cell_type": "code",
      "source": [
        "#Peça ao usuário para inserir a temperatura em fahrenheit. Na sequência, calcule e exiba na tela a temperatura em celsius.\n",
        "temperatura = float(input(\"Digite a temperatura em fahrenheit: \"))\n",
        "celsius = (temperatura-32)/1.8\n",
        "\n",
        "print(f\"A temperatura em celsius é : {celsius:.2f}\")\n"
      ],
      "metadata": {
        "colab": {
          "base_uri": "https://localhost:8080/"
        },
        "id": "ICYGPszWYiBj",
        "outputId": "f31e31e4-621d-4717-f91a-e967a563c32b"
      },
      "execution_count": 8,
      "outputs": [
        {
          "output_type": "stream",
          "name": "stdout",
          "text": [
            "Digite a temperatura em fahrenheit: 250\n",
            "A temperatura em celsius é : 121.11\n"
          ]
        }
      ]
    },
    {
      "cell_type": "code",
      "source": [
        "#Desenvolva um programa que leia os valores de A, B e C de uma equação do segundo grau e mostre o valor de delta.\n",
        "\n",
        "a = int(input(\"Digite valor de A: \"))\n",
        "b = int(input(\"Digite valor de B: \"))\n",
        "c = int(input(\"Digite valor de C: \"))\n",
        "\n",
        "delta = b**2 - (4*a*c)\n",
        "\n",
        "print(\"O valor do delta é : \", delta)\n",
        "\n"
      ],
      "metadata": {
        "colab": {
          "base_uri": "https://localhost:8080/"
        },
        "id": "P9axQ18hZWFh",
        "outputId": "201b62bb-2c47-4aed-e741-85b556e02613"
      },
      "execution_count": 9,
      "outputs": [
        {
          "output_type": "stream",
          "name": "stdout",
          "text": [
            "Digite valor de A: 2\n",
            "Digite valor de B: 3\n",
            "Digite valor de C: 5\n",
            "O valor do delta é :  -31\n"
          ]
        }
      ]
    }
  ]
}