{
  "nbformat": 4,
  "nbformat_minor": 0,
  "metadata": {
    "colab": {
      "provenance": [],
      "authorship_tag": "ABX9TyPY64qTVXIEPDVV9Eq7RiUa",
      "include_colab_link": true
    },
    "kernelspec": {
      "name": "python3",
      "display_name": "Python 3"
    },
    "language_info": {
      "name": "python"
    }
  },
  "cells": [
    {
      "cell_type": "markdown",
      "metadata": {
        "id": "view-in-github",
        "colab_type": "text"
      },
      "source": [
        "<a href=\"https://colab.research.google.com/github/ntlcs/Fast_Python/blob/main/Fast.ipynb\" target=\"_parent\"><img src=\"https://colab.research.google.com/assets/colab-badge.svg\" alt=\"Open In Colab\"/></a>"
      ]
    },
    {
      "cell_type": "code",
      "execution_count": null,
      "metadata": {
        "id": "nsTqOXNlNvgC",
        "colab": {
          "base_uri": "https://localhost:8080/"
        },
        "outputId": "9a751c71-f34d-48d9-ab01-9b7bf865177f"
      },
      "outputs": [
        {
          "output_type": "stream",
          "name": "stdout",
          "text": [
            "Digite o seu nome: Marcio\n",
            "Digite o seu salário fixo: 1500\n",
            "Digite a quantidade de aulas:5\n",
            "O professor Marcio recebe um salário de R$  1500.0 e ministra  5 por mês \n",
            "\n"
          ]
        }
      ],
      "source": [
        "#1.1 Desenvolva um programa em que o professor possa inserir o seu nome, o seu salário fixo, e o total de aulas que ele ministra por mês. Após isso, exiba na tela as informações.\n",
        "\n",
        "nome = input(\"Digite o seu nome: \")\n",
        "salario = float(input(\"Digite o seu salário fixo: \"))\n",
        "aulas = int(input(\"Digite a quantidade de aulas:\"))\n",
        "\n",
        "print(\"O professor\", nome, \"recebe um salário de R$ \", salario, \"e ministra \", aulas, \"por mês \\n\")\n",
        "\n"
      ]
    },
    {
      "cell_type": "code",
      "source": [
        "#1.2 Desenvolva um programa que declare duas variáveis chamadas altura e peso. A essas variáveis , atribua os valores 1.65 e 56kg.\n",
        "#Na sequência, peça ao usuário para inserir a informação se ele pratica atividades físicas e quantos litros de água ele bebe por dia.\n",
        "#Exiba todas as informações na tela.\n",
        "\n",
        "altura = 1.65\n",
        "peso = 56.0\n",
        "\n",
        "atividade  =input(\"Você pratica atividade física?  \")\n",
        "litros = float(input(\"Quantos litros de água você bebe por dia? \"))\n",
        "\n",
        "print (\"O jovem de \", altura, \"de altura e\", peso, \"kg, ele pratica atividade fisica?\", atividade, \"e bebe\", litros, \"de água por dia \\n \")\n"
      ],
      "metadata": {
        "colab": {
          "base_uri": "https://localhost:8080/"
        },
        "id": "APtJSOMhP6z2",
        "outputId": "bd3fe047-44c9-42b8-eebf-c706a07a1fc8"
      },
      "execution_count": null,
      "outputs": [
        {
          "output_type": "stream",
          "name": "stdout",
          "text": [
            "Você pratica atividade física?  sim\n",
            "Quantos litros de água você bebe por dia? 2\n",
            "O jovem de  1.65 de altura e 56.0 kg, ele pratica atividade fisica? sim e bebe 2.0 de água por dia \n",
            " \n"
          ]
        }
      ]
    },
    {
      "cell_type": "markdown",
      "source": [],
      "metadata": {
        "id": "g144nmkcUzzl"
      }
    },
    {
      "cell_type": "code",
      "source": [
        "#1.3 O Cesar deseja enviar um bônus para seus funcionários.\n",
        "#Escreva um programa que receba o valor do salário mensal do funcionário e sobre esse salário, calcule 10%.\n",
        "#Ao final, imprima na tela salário incial, bônus e salário final.\n",
        "\n",
        "salario_mensal = float (input (\"Digite o valor do salário mensal do funcionário:\"))\n",
        "bonus = salario_mensal * 0.10\n",
        "salario_final = salario_mensal + bonus\n",
        "\n",
        "print (\"Salário inicial R$ \", salario_mensal)\n",
        "print (\"Salário final com bônus R$ \", salario_final)\n",
        "print (\"Bônus R$ \", bonus)\n"
      ],
      "metadata": {
        "colab": {
          "base_uri": "https://localhost:8080/"
        },
        "id": "4VDQEFW1SPWw",
        "outputId": "8c749a40-d3c3-4597-a0f3-ea398bc178f5"
      },
      "execution_count": null,
      "outputs": [
        {
          "output_type": "stream",
          "name": "stdout",
          "text": [
            "Digite o valor do salário mensal do funcionário:1300\n",
            "Salário inicial R$  1300.0\n",
            "Salário final com bônus R$  1430.0\n",
            "Bônus R$  130.0\n"
          ]
        }
      ]
    },
    {
      "cell_type": "code",
      "source": [
        "#1.4 Desenvolva um programa que solicite que o aluno insira a sua idade e que a professora insira o seu salário.\n",
        "#Na sequência, mostre na tela se é verdadeiro ou falso que:\n",
        "# - O aluno é maior de idade;\n",
        "# - O professor recebe mais que um salário mínimo;\n",
        "\n",
        "idade_aluno = int (input(\"Digite a idade do aluno: \"))\n",
        "salario_professor = float(input(\"Digite o salário do professor: \"))\n",
        "\n",
        "print(\"É verdadeiro que o aluno é maior de idade: \", idade_aluno >=18)\n",
        "print(\"É verdadeiro que o professor recebe mais que um salário mínimo:\" , salario_professor > 1320.00)\n"
      ],
      "metadata": {
        "colab": {
          "base_uri": "https://localhost:8080/"
        },
        "id": "2WoyI8aFTiFQ",
        "outputId": "c96255ed-2795-4ef4-b159-5ac73ef0cfeb"
      },
      "execution_count": null,
      "outputs": [
        {
          "output_type": "stream",
          "name": "stdout",
          "text": [
            "Digite a idade do aluno: 11\n",
            "Digite o salário do professor: 1000\n",
            "É verdadeiro que o aluno é maior de idade:  False\n",
            "É verdadeiro que o professor recebe mais que um salário mínimo: False\n"
          ]
        }
      ]
    },
    {
      "cell_type": "code",
      "source": [
        "#1.5 Uma revendedora de carros usados paga a seus vendedores um salário fixo por mês, mais uma comissão também fixa para cada carro vendido e mais 5% do valor das vendas por eles efetuadas.\n",
        "#Escreva um algoritmo que leia o número de carros vendidospor uma pessoa vendedora, o valor total de suas vendas, e o salário fixo e a comissão que a pessoa receberá por arro vendido.\n",
        "#Cacule e escreva o salário final.\n",
        "\n",
        "quant_carros = int(input(\"Informe a quantidade de carros vendidos: \"))\n",
        "vendas = float(input(\"Informe o valor total em vendas: \"))\n",
        "salario_fixo = float(input(\"Informe o seu salário fixo mensal: \"))\n",
        "comissao = float(input(\"Informe o valor da comissão por carro vendido: \"))\n",
        "\n",
        "salario_final = salario_fixo + (comissao * quant_carros) + (vendas * 0.05)\n",
        "\n",
        "print(f\"Salário final do vendedor: R$ {salario_final:.2f}\")"
      ],
      "metadata": {
        "colab": {
          "base_uri": "https://localhost:8080/"
        },
        "id": "nrqeHoqxWC8o",
        "outputId": "330cdaf2-4c83-4ef4-b490-0576615c28c4"
      },
      "execution_count": null,
      "outputs": [
        {
          "output_type": "stream",
          "name": "stdout",
          "text": [
            "Informe a quantidade de carros vendidos: 10\n",
            "Informe o valor total em vendas: 5000\n",
            "Informe o seu salário fixo mensal: 2000\n",
            "Informe o valor da comissão por carro vendido: 500\n",
            "Salário final do vendedor: R$ 7250.00\n"
          ]
        }
      ]
    },
    {
      "cell_type": "code",
      "source": [
        "#1.6 Peça ao usuário para inserir a temperatura em fahrenheit. Na sequência, calcule e exiba na tela a temperatura em celsius.\n",
        "temperatura = float(input(\"Digite a temperatura em fahrenheit: \"))\n",
        "celsius = (temperatura-32)/1.8\n",
        "\n",
        "print(f\"A temperatura em celsius é : {celsius:.2f}\")\n"
      ],
      "metadata": {
        "colab": {
          "base_uri": "https://localhost:8080/"
        },
        "id": "ICYGPszWYiBj",
        "outputId": "f31e31e4-621d-4717-f91a-e967a563c32b"
      },
      "execution_count": null,
      "outputs": [
        {
          "output_type": "stream",
          "name": "stdout",
          "text": [
            "Digite a temperatura em fahrenheit: 250\n",
            "A temperatura em celsius é : 121.11\n"
          ]
        }
      ]
    },
    {
      "cell_type": "code",
      "source": [
        "#1.7 Desenvolva um programa que leia os valores de A, B e C de uma equação do segundo grau e mostre o valor de delta.\n",
        "\n",
        "a = int(input(\"Digite valor de A: \"))\n",
        "b = int(input(\"Digite valor de B: \"))\n",
        "c = int(input(\"Digite valor de C: \"))\n",
        "\n",
        "delta = b**2 - (4*a*c)\n",
        "\n",
        "print(\"O valor do delta é : \", delta)\n",
        "\n"
      ],
      "metadata": {
        "colab": {
          "base_uri": "https://localhost:8080/"
        },
        "id": "P9axQ18hZWFh",
        "outputId": "201b62bb-2c47-4aed-e741-85b556e02613"
      },
      "execution_count": null,
      "outputs": [
        {
          "output_type": "stream",
          "name": "stdout",
          "text": [
            "Digite valor de A: 2\n",
            "Digite valor de B: 3\n",
            "Digite valor de C: 5\n",
            "O valor do delta é :  -31\n"
          ]
        }
      ]
    },
    {
      "cell_type": "code",
      "source": [
        "#1.8 Desenvolva um programa que leia a largura e altura de uma parede, calcule e mostre a àrea a ser pintada e a qauntidade de tenta necessária para o serviço,\n",
        "#sabendo que cada litro de tinta pinta uma área de 2 metros quadrados (m²)\n",
        "\n",
        "\n",
        "largura = float(input( \"Digite o valor da largura: \"))\n",
        "altura = float(input(\"Digite o valor da altura: \"))\n",
        "\n",
        "area = largura * altura\n",
        "quant_tinta = area/2\n",
        "\n",
        "print(\"Área a ser pintada é: \", area)\n",
        "print(f\"Quantidade de tinta necessária é: \", quant_tinta)"
      ],
      "metadata": {
        "colab": {
          "base_uri": "https://localhost:8080/"
        },
        "id": "DnBvOZelaL_x",
        "outputId": "237b614f-5a33-4a8a-baa4-f5b086118796"
      },
      "execution_count": null,
      "outputs": [
        {
          "output_type": "stream",
          "name": "stdout",
          "text": [
            "Digite o valor da largura: 5\n",
            "Digite o valor da altura: 6\n",
            "Área a ser pintada é:  30.0\n",
            "Quantidade de tinta necessária é:  15.0\n"
          ]
        }
      ]
    },
    {
      "cell_type": "code",
      "source": [
        "#1.9 escreva um programa que leia três valores com ponto flutuante: A, B e C. Em seguida, calcule e mostre:\n",
        "#área do triângulo retângulo que tem o valor de A como base e o valor de C como altura.\n",
        "#área do círculo que tem como raio o valor de C.\n",
        "#área do trapézio que tem a e b por bases e Cpor altura.\n",
        "#área do quadrado que tem como lado o valor de B.\n",
        "#área do retângulo que tem lados A e B.\n",
        "import math\n",
        "\n",
        "A = float(input(\"Digite valor de A: \"))\n",
        "B = float(input(\"Digite valor de B: \"))\n",
        "C = float(input(\"Digite valor de C: \"))\n",
        "\n",
        "area_triangulo = A*C\n",
        "area_circulo = math.pi*C**2\n",
        "area_trapezio = 1/2*C*(A+B)\n",
        "area_quadrado = B**2\n",
        "area_retangulo = A*B\n",
        "\n",
        "\n",
        "print(\"Área do Triângulo: \", area_triangulo)\n",
        "print(f\"Área do Círculo: \", area_circulo)\n",
        "print(\"Área do Trapézio: \", area_trapezio)\n",
        "print(\"Área do Quadrado: \", area_quadrado)\n",
        "print(\"Área do Retângulo: \", area_retangulo)\n",
        "\n",
        "\n",
        "\n"
      ],
      "metadata": {
        "colab": {
          "base_uri": "https://localhost:8080/"
        },
        "id": "3zRPHCOxb1i6",
        "outputId": "d4c69d10-6cb5-4b6e-d004-f7a45e30c4c2"
      },
      "execution_count": null,
      "outputs": [
        {
          "output_type": "stream",
          "name": "stdout",
          "text": [
            "Digite valor de A: 2\n",
            "Digite valor de B: 3\n",
            "Digite valor de C: 5\n",
            "Área do Triângulo:  10.0\n",
            "Área do Círculo:  78.53981633974483\n",
            "Área do Trapézio:  12.5\n",
            "Área do Quadrado:  9.0\n",
            "Área do Retângulo:  6.0\n"
          ]
        }
      ]
    },
    {
      "cell_type": "code",
      "source": [
        "#1.10 Desenvolva um programa que recebe o nome de um ciclista,a distância que ele percorre em KM e o tempo que gastou nesse percurso em horas.\n",
        "#O programa deverá calcular a velocidade média do ciclista e, exibi-la na tela duas vezes, uma em KM/H e outra em M/S.\n",
        "#Dividimos por 3.6 quando queremos converter de KM/H para M/S.\n",
        "\n",
        "nome = input(\"Digite o nome do ciclista: \")\n",
        "distancia = float(input(\"Digite a distância: \"))\n",
        "tempo = float(input(\"Digite o tempo: \"))\n",
        "velocidade = distancia * tempo\n",
        "print(\"Velocidade média em Km/h:\" , velocidade)\n",
        "print(\"Velocidade em m/s:\", velocidade/3.6)\n"
      ],
      "metadata": {
        "colab": {
          "base_uri": "https://localhost:8080/"
        },
        "id": "33Lu8ilSgTqz",
        "outputId": "45b5ae66-bc5b-4a66-afc5-9544ac67582d"
      },
      "execution_count": null,
      "outputs": [
        {
          "output_type": "stream",
          "name": "stdout",
          "text": [
            "Digite o nome do ciclista: Marcio\n",
            "Digite a distância: 15\n",
            "Digite o tempo: 2\n",
            "Velocidade média em Km/h: 30.0\n",
            "Velocidade em m/s: 8.333333333333334\n"
          ]
        }
      ]
    },
    {
      "cell_type": "code",
      "source": [
        "#1.11 Desenvolva um programa para calcular a redução do tempo de vida de um fumante. Pergunte a quantidade média de cigarros fumados por dia e por quantos anos ele já fumou.\n",
        "#Considere que um fumante perde 10 min de vida a cada cigarro. Calcule e exiba quantos dias de vida o fumante perdue até o momento.\n",
        "\n",
        "fumados = int(input(\"Qual a quantidade média de cigarros fumados por dia? \"))\n",
        "anos_fumando = int(input(\"Fuma a quantos anos? \"))\n",
        "\n",
        "dias_fumando = (fumados * 365) * anos_fumando\n",
        "vida_perdida = dias_fumando*10\n",
        "dias_perdidos = int(vida_perdida/1440)\n",
        "\n",
        "\n",
        "print(\"Vida perdida em dias: \", vida_perdida)\n",
        "\n"
      ],
      "metadata": {
        "colab": {
          "base_uri": "https://localhost:8080/"
        },
        "id": "jDrrS2G1SQA5",
        "outputId": "3d767428-d82c-42ca-e68a-c3b282a64e56"
      },
      "execution_count": null,
      "outputs": [
        {
          "output_type": "stream",
          "name": "stdout",
          "text": [
            "Qual a quantidade média de cigarros fumados por dia? 2\n",
            "Fuma a quantos anos? 10\n",
            "Vida perdida em dias:  73000\n"
          ]
        }
      ]
    },
    {
      "cell_type": "code",
      "source": [
        "#2.1 Desenvolva um programa que receba dois valores. Na sequência, verifique se a equação 4a+3=b é verdadeira. Caso seja falsa, o programa encerra sua execução.\n",
        "\n",
        "a = int(input(\"Digite o primeiro valor: \"))\n",
        "b = int(input(\"Digite o segundo valor: \"))\n",
        "print(a)\n",
        "print(b)\n",
        "\n",
        "if (4*a)+3==b:\n",
        "  print(\"Essa equação é verdadeira\")"
      ],
      "metadata": {
        "colab": {
          "base_uri": "https://localhost:8080/"
        },
        "id": "UUJADJ8uVwaq",
        "outputId": "a36e80b6-ea31-47d1-f605-21665c3c7e75"
      },
      "execution_count": null,
      "outputs": [
        {
          "output_type": "stream",
          "name": "stdout",
          "text": [
            "Digite o primeiro valor: 1\n",
            "Digite o segundo valor: 7\n",
            "1\n",
            "7\n",
            "Essa equação é verdadeira\n"
          ]
        }
      ]
    },
    {
      "cell_type": "code",
      "source": [
        "#2.2 desenvolva um programa que pergunte a velocidade de um carro. caso a velocidade ultrapasse 80km/h, exiba uma mensagem dizendo que o usuário foi multado.\n",
        "#Nesse caso, exiba o valor da multa, cobrando R$5,00 por cada km acima da velocidade permitida.\n",
        "\n",
        "\n",
        "velocidade=float(input(\"Qual é a velocidade do carro em km/h? \"))\n",
        "if velocidade > 80:\n",
        "  velocidade_acima=velocidade - 80\n",
        "  valor_multa=velocidade_acima*5\n",
        "\n",
        "  print(\"você foi multado\")\n",
        "  print(f\"O valor da multa é R${valor_multa:.2f}\")\n",
        "\n"
      ],
      "metadata": {
        "colab": {
          "base_uri": "https://localhost:8080/"
        },
        "id": "hRLBmvZsZKgB",
        "outputId": "6813ff06-f1fb-484a-8a37-7ee7ee3f8ed9"
      },
      "execution_count": null,
      "outputs": [
        {
          "output_type": "stream",
          "name": "stdout",
          "text": [
            "Qual é a velocidade do carro em km/h? 105\n",
            "você foi multado\n",
            "O valor da multa é R$125.00\n"
          ]
        }
      ]
    },
    {
      "cell_type": "code",
      "source": [
        "#2.3 Desenvolva um programa que leia dois números e efetue a adição. Caso o resultado seja maior que 10, este deverá ser apresentado somando-se a ele mais 5;\n",
        "#caso o resultado seja menor ou igual a 10, este deverá ser apresentado subtraindo-se 5.\n",
        "\n",
        "num_A=int(input(\"Digite o primeiro valor: \"))\n",
        "num_B=int(input(\"Digite o segundo valor: \"))\n",
        "soma=num_A+num_B\n",
        "if soma>10:\n",
        "  print(\"O Resultado é: \", soma+5)\n",
        "else:\n",
        "  print(\"O resultado é: \", soma-5)\n"
      ],
      "metadata": {
        "colab": {
          "base_uri": "https://localhost:8080/"
        },
        "id": "yJ8mBc2XafpQ",
        "outputId": "6c187d0d-d006-47da-9ea6-7d2b2e12c6ed"
      },
      "execution_count": null,
      "outputs": [
        {
          "output_type": "stream",
          "name": "stdout",
          "text": [
            "Digite o primeiro valor: 10\n",
            "Digite o segundo valor: 35\n",
            "O Resultado é:  50\n"
          ]
        }
      ]
    },
    {
      "cell_type": "code",
      "source": [
        "#2.4 Numa promoção exclusiva, uma loja quer dar desconto para todos, mas especialmente para as mulheres.\n",
        "#Faça um programa que leia nome, sexo(M e F) e o valordas compras do cliente e calsule o desconto.\n",
        "#Sabendo que:\n",
        "# - Se for mulher, ganha 13% de desconto;\n",
        "# - Se não ganha 5% de desconto;\n",
        "\n",
        "nome=input(\"Digite o nome do cliente: \")\n",
        "sexo=input(\"Digite o sexo do cliente (M ou F): \")\n",
        "valor_compras=float(input(\"Digite o valor das compras do cliente: \"))\n",
        "\n",
        "if sexo==\"F\":\n",
        "  desconto = valor_compras*0.13\n",
        "\n",
        "else:\n",
        "  desconto=valor_compras*0.5\n",
        "\n",
        "valor_total=valor_compras - desconto\n",
        "\n",
        "print (\"cliente: \", nome)\n",
        "print (\"valor compras R$: \", valor_compras)\n",
        "print (\"desconto R$: \", desconto)\n",
        "print (\"valor a pagar R$: \", valor_total)\n",
        "\n",
        "\n"
      ],
      "metadata": {
        "colab": {
          "base_uri": "https://localhost:8080/"
        },
        "id": "ij27BRa0fEdB",
        "outputId": "86df5017-3554-4277-dfe9-be35e3abf03e"
      },
      "execution_count": null,
      "outputs": [
        {
          "output_type": "stream",
          "name": "stdout",
          "text": [
            "Digite o nome do cliente: Natalia\n",
            "Digite o sexo do cliente (M ou F): F\n",
            "Digite o valor das compras do cliente: 300\n",
            "cliente:  Natalia\n",
            "valor compras R$:  300.0\n",
            "desconto R$:  39.0\n",
            "valor a pagar R$:  261.0\n"
          ]
        }
      ]
    },
    {
      "cell_type": "code",
      "source": [
        "#2.5 Escreva um progarama que, dado o level do voltorb, imprima de qaunto foi o choque em w segundo a tabela.\n",
        "\n",
        "\n",
        "level=int(input(\"Digite o level do voltorb: \"))\n",
        "if level>=1and level <=20:\n",
        "  potência=20+level**3\n",
        "elif level>=21 and level <=40:\n",
        "  potência=8000+(level-10)**2\n",
        "elif level>=41 and level<=60:\n",
        "  potência=9000+(5*level)\n",
        "elif level>=61and level<=80:\n",
        "  potência=9300+(2*level)\n",
        "elif level>=81and level<=100:\n",
        "  potência=9500+level\n",
        "else: print(\"Valor inválido\")\n",
        "print(\"A intensidade do choque foi: \", potência)"
      ],
      "metadata": {
        "colab": {
          "base_uri": "https://localhost:8080/"
        },
        "id": "L5uXtQXLjrT7",
        "outputId": "791dd426-e39e-4dfa-9f44-5a7b04f3275e"
      },
      "execution_count": null,
      "outputs": [
        {
          "output_type": "stream",
          "name": "stdout",
          "text": [
            "Digite o level do voltorb: 5\n",
            "A intensidade do choque foi:  145\n"
          ]
        }
      ]
    },
    {
      "cell_type": "code",
      "source": [
        "#2.6 Desenvolva um programa e um fluxograma de bilheteria de teatro, que após inserida a idade de uma pessoa seja indicado o valor do ingresso segundo as regras:\n",
        "# a) a entrada para qualquer pessoa com menos de 4 anos ou maior que 60 é gratuito;\n",
        "# b) a entrada para qualquer pessoa com idade entre 4 e 18 anos custa 20 reais;\n",
        "# c) a entrada para qualquer pessoa com 18 ou mais custa 30 reais;\n",
        "\n",
        "idade=int(input(\"Digite a idade: \"))\n",
        "\n",
        "if idade<4 or idade>60:\n",
        "  print(\"O bilhete é gratuito\")\n",
        "\n",
        "elif idade>=4 and idade<18:\n",
        "  print(\"O bilhete custa R$20,00\")\n",
        "\n",
        "else:\n",
        "  print(\"O bilhete custa R$30,00\")"
      ],
      "metadata": {
        "colab": {
          "base_uri": "https://localhost:8080/"
        },
        "id": "anxqjnpLlZsT",
        "outputId": "bbd9f2c7-7aa5-496e-cea1-27d48190abdf"
      },
      "execution_count": null,
      "outputs": [
        {
          "output_type": "stream",
          "name": "stdout",
          "text": [
            "Digite a idade: 36\n",
            "O bilhete custa R$30,00\n"
          ]
        }
      ]
    },
    {
      "cell_type": "code",
      "source": [
        "#2.7 A conta de energia de consumidores residenciais é calculada do seguinte modo:\n",
        "#se o consumo é de até 500KW, a tarifa é de R$0.02 por unidade de KW;\n",
        "#se o consumo é maior que 500KW, mas não excede 1000KW, a tarifa é de R$10.00 por unidade de KW;\n",
        "#se o consumo é maior que 1000KW, a tarifa é de R$35.00 por unidade de KW;\n",
        "#em toda conta é cobrada uma taxa básica de serviço de R$5.00 independentemente da quantidade de energia consumida.\n",
        "#Escreva um programa que leia o consumo de energia de uma residência e imprima o valor da sua conta de energia.\n",
        "\n",
        "KW=int(input(\"Digite a quantidade de KW da energia elétrica: \"))\n",
        "\n",
        "if KW<=500:\n",
        "  print(\"O valor a ser pago é: \", KW*0.02+5.00)\n",
        "elif KW>500 and KW<=1000:\n",
        "  print(\"O valor a ser pago é: \", KW*10+5.00)\n",
        "else:\n",
        "  print(\"O valor a ser pago é: \", KW*35+5.00)\n"
      ],
      "metadata": {
        "colab": {
          "base_uri": "https://localhost:8080/"
        },
        "id": "G0ID9m6Rn0uD",
        "outputId": "c06d373a-f8b0-4312-80e9-58c780ab4bd4"
      },
      "execution_count": null,
      "outputs": [
        {
          "output_type": "stream",
          "name": "stdout",
          "text": [
            "Digite a quantidade de KW da energia elétrica: 1000\n",
            "O valor a ser pago é:  10005.0\n"
          ]
        }
      ]
    },
    {
      "cell_type": "code",
      "source": [
        "#2.8 Uma empresa deseja reavaliar os salários dos seus funcionários.\n",
        "#Será reajustado o salário daqueles que estão há 2 anos ou mais sem receber aumento.\n",
        "#com + de 10 anos = 30%\n",
        "#entre 5 a 10 anos = 20%\n",
        "#com menos de 5 anos = 10%\n",
        "#Faça um programa que receba as seguintes informações sobre o funcionário: ano de admissão, salário atual, último ano de reajuste salarial.\n",
        "#O programa deverá mostrar o novo salário do funcionário ou uma mensagem informando que ele não está apto ao reajuste salarial coletivo.\n",
        "\n",
        "import os\n",
        "os.system(\"cls\")\n",
        "from datetime import date\n",
        "\n",
        "ano_atual=date.today().year\n",
        "ano_admissao=int(input(\"Digite o ano da sua admissão: \"))\n",
        "salario_atual=float(input(\"Digite o seu salário atual: \"))\n",
        "ano_reajuste=int(input(\"Digite o último ano do reajuste salarial: \"))\n",
        "\n",
        "tempo_aumento=ano_atual - ano_reajuste\n",
        "anos_trabalhados=ano_atual - ano_admissao\n",
        "\n",
        "if tempo_aumento>=2:\n",
        "  if anos_trabalhados>10:\n",
        "    novo_salario=salario_atual*1.30\n",
        "  elif anos_trabalhados>=5 and anos_trabalhados<=10:\n",
        "    novo_salario=salario_atual*1.20\n",
        "  else:\n",
        "    novo_salario=salario_atual*1.10\n",
        "  print(\"\\nApto a receber reajuste salarial!\")\n",
        "  print(\"Novo salário R$ \",novo_salario)\n",
        "\n",
        "else:\n",
        "  print(\"\\nNão está apto a receber reajuste salarial!\")\n",
        "\n",
        "\n",
        "\n"
      ],
      "metadata": {
        "colab": {
          "base_uri": "https://localhost:8080/"
        },
        "id": "8ihah6-Ppx7N",
        "outputId": "fbe89bd9-06f0-4aa2-cb26-17f314ab3167"
      },
      "execution_count": null,
      "outputs": [
        {
          "output_type": "stream",
          "name": "stdout",
          "text": [
            "Digite o ano da sua admissão: 2020\n",
            "Digite o seu salário atual: 2000\n",
            "Digite o último ano do reajuste salarial: 2021\n",
            "\n",
            "Apto a receber reajuste salarial!\n",
            "Novo salário R$  2200.0\n"
          ]
        }
      ]
    },
    {
      "cell_type": "code",
      "source": [
        "#3.1 Desenvolva um programa que permite ao usuário inserir os valores dos produtos comprados por um cliente.\n",
        "#O programa deve terminar quando o unsuário inserir o valor zero.\n",
        "#Se o unsuário digitar um valor negativo, não deve ser processado e um novo valor deve ser solicitado como entrada.\n",
        "#ao final informe o valor total a pagar\n",
        "#lembrando que, caso as vendas ultrapassem ao total de R$1.000 deverá ser aplicado um desconto de 10%\n",
        "\n",
        "total = 0\n",
        "\n",
        "while True:\n",
        "  valor=float(input(\"Digite o valor do produto(ou 0 para encerrar): \"))\n",
        "  if valor < 0 :\n",
        "    print(\"Valor negativo não é permitido. tente novamente.\")\n",
        "    continue\n",
        "  elif valor == 0:\n",
        "    break\n",
        "\n",
        "  total += valor\n",
        "\n",
        "if total > 1000:\n",
        "  total *= 0.9\n",
        "  #total-=total*0.1\n",
        "\n",
        "print(f\"O valor total a pagar é: R$ {total:.2f}\")\n"
      ],
      "metadata": {
        "colab": {
          "base_uri": "https://localhost:8080/"
        },
        "id": "W8JZ3gGJuIDF",
        "outputId": "bd1c1a9d-f6e3-49ce-a002-c28830fdcbf8"
      },
      "execution_count": null,
      "outputs": [
        {
          "output_type": "stream",
          "name": "stdout",
          "text": [
            "Digite o valor do produto(ou 0 para encerrar): 100\n",
            "Digite o valor do produto(ou 0 para encerrar): 500\n",
            "Digite o valor do produto(ou 0 para encerrar): 200\n",
            "Digite o valor do produto(ou 0 para encerrar): 300\n",
            "Digite o valor do produto(ou 0 para encerrar): 400\n",
            "Digite o valor do produto(ou 0 para encerrar): 0\n",
            "O valor total a pagar é: R$ 1350.00\n"
          ]
        }
      ]
    },
    {
      "cell_type": "code",
      "source": [
        "#3.2 Desenvolva um programa que some os números pares entre o intervalo de dois números.\n",
        "#o número incial e o final do intervalo são fornecidos pelo usuário.\n",
        "#Caso esses valores sejam pares, eles também entram na contagem.\n",
        "\n",
        "import os\n",
        "os.system(\"cls\")\n",
        "\n",
        "num1=int(input(\"Digite o primeiro valor: \"))\n",
        "num2=int(input(\"Digite o segundo valor: \"))\n",
        "soma=0\n",
        "\n",
        "while num1<=num2:\n",
        "  if num1%2==0:\n",
        "    soma=soma+num1\n",
        "  num1+=1\n",
        "print(\"A soma entre os números pares é : \", soma)\n"
      ],
      "metadata": {
        "colab": {
          "base_uri": "https://localhost:8080/"
        },
        "id": "9wMAP0Zvx_jc",
        "outputId": "21cb8b26-bdfe-42ef-c0b1-55455715901b"
      },
      "execution_count": null,
      "outputs": [
        {
          "output_type": "stream",
          "name": "stdout",
          "text": [
            "Digite o primieiro valor: 2\n",
            "Digite o segundo valor: 20\n",
            "A soma entre os números pares é :  110\n"
          ]
        }
      ]
    },
    {
      "cell_type": "code",
      "source": [
        "#3.3 Faça um programa que receba notas de alunos, até -1 ser informado.\n",
        "#Ao final, o programa deve exibir quantas notas foram informadas e a média entre elas.\n",
        "\n",
        "soma_notas = 0\n",
        "contar_notas = 0\n",
        "\n",
        "while True:\n",
        "  nota = float(input(\"digite a nota do aluno: \"))\n",
        "\n",
        "  if nota==-1:\n",
        "    break\n",
        "\n",
        "  soma_notas+=nota\n",
        "  contar_notas+=1\n",
        "\n",
        "media = soma_notas/contar_notas\n",
        "\n",
        "print(f\" A média das notas foi {media:.2f}\")\n",
        "\n",
        "\n"
      ],
      "metadata": {
        "colab": {
          "base_uri": "https://localhost:8080/"
        },
        "id": "bWOmfYP4MWuZ",
        "outputId": "1eab4e86-cdc6-43df-d9bf-5b60df19bdc7"
      },
      "execution_count": null,
      "outputs": [
        {
          "output_type": "stream",
          "name": "stdout",
          "text": [
            "digite a nota do aluno: 5\n",
            "digite a nota do aluno: 6\n",
            "digite a nota do aluno: 7\n",
            "digite a nota do aluno: -1\n",
            " A média das notas foi 6.00\n"
          ]
        }
      ]
    },
    {
      "cell_type": "code",
      "source": [
        "#3.4 Crie um programa que leia o ano de nascimento de cinco pessoas.\n",
        "#No final, mostre quantas pessoas ainda não atingiram a maioridade e quantas já são maiores de idade.\n",
        "\n",
        "from datetime import date\n",
        "#ano_atual = 2023\n",
        "ano_atual = date.today().year\n",
        "maior_idade=0\n",
        "menor_idade=0\n",
        "\n",
        "for i in range(5):\n",
        "  ano=int(input(\"Digite o seu ano de nascimento: \"))\n",
        "  if ano_atual-ano>=18:\n",
        "    maior_idade+=1\n",
        "  else:\n",
        "    menor_idade+=1\n",
        "\n",
        "print(f\"{maior_idade} pessoas são maiores de idade e {menor_idade} são menores de idade\")\n"
      ],
      "metadata": {
        "colab": {
          "base_uri": "https://localhost:8080/"
        },
        "id": "_t5tj-6BQXC4",
        "outputId": "7bbbe645-d704-462f-d2c7-79eff5a55629"
      },
      "execution_count": null,
      "outputs": [
        {
          "output_type": "stream",
          "name": "stdout",
          "text": [
            "Digite o seu ano de nascimento: 1996\n",
            "Digite o seu ano de nascimento: 223\n",
            "Digite o seu ano de nascimento: 2023\n",
            "Digite o seu ano de nascimento: 1987\n",
            "Digite o seu ano de nascimento: 1990\n",
            "4 pessoas são maiores de idade e 1 são menores de idade\n"
          ]
        }
      ]
    },
    {
      "cell_type": "code",
      "source": [
        "#3.5 Escreva um programa que mostre todos os números entre 5 e 100 que são divisíveis por 7, mas não são múltiplos de 5.\n",
        "#os números obtidos devem ser iimpressos em sequência.\n",
        "\n",
        "for i in range(5,100):\n",
        "  if(i%7==0 and i%5!=0):\n",
        "    print (i)\n"
      ],
      "metadata": {
        "colab": {
          "base_uri": "https://localhost:8080/"
        },
        "id": "8XNlH8ViSmRb",
        "outputId": "5ef6d4ce-f152-4db4-a13f-42c1469c0e41"
      },
      "execution_count": null,
      "outputs": [
        {
          "output_type": "stream",
          "name": "stdout",
          "text": [
            "7\n",
            "14\n",
            "21\n",
            "28\n",
            "42\n",
            "49\n",
            "56\n",
            "63\n",
            "77\n",
            "84\n",
            "91\n",
            "98\n"
          ]
        }
      ]
    },
    {
      "cell_type": "code",
      "source": [
        "#4.1 Desenvolva um programa que receba as notas de 5 alunos e, na sequência calcule e informe a média;\n",
        "#Além disso, mostre na tela as notas que são superiores à média da turma.\n",
        "\n",
        "notas = []\n",
        "\n",
        "for i in range(5):\n",
        "  notas.append(float(input(\"Digite a nota: \")))\n",
        "\n",
        "media = sum(notas)/5\n",
        "print(f\"A média da turma foi {media:.2f}\")\n",
        "\n",
        "for nota in notas:\n",
        "  if nota>media:\n",
        "    print(f\"A nota {nota} foi maior que a média\")\n",
        "\n",
        "\n"
      ],
      "metadata": {
        "id": "A7GavXI1Tx5f",
        "colab": {
          "base_uri": "https://localhost:8080/"
        },
        "outputId": "bffe4b7b-71d2-4b90-b0df-aef5fbd75a48"
      },
      "execution_count": 6,
      "outputs": [
        {
          "output_type": "stream",
          "name": "stdout",
          "text": [
            "Digite a nota: 8\n",
            "Digite a nota: 5\n",
            "Digite a nota: 2\n",
            "Digite a nota: 6\n",
            "Digite a nota: 9\n",
            "A média da turma foi 6.00\n",
            "A nota 8.0 foi maior que a média\n",
            "A nota 9.0 foi maior que a média\n"
          ]
        }
      ]
    },
    {
      "cell_type": "code",
      "source": [
        "#4.2 Faça um programa que peça ao usuário um número inteiro. Em seguida mostre na tela os números de 0 a n (nº escolhido)\n",
        "#e seus respectivos quadrados, como na seguinte forma {n:n*n}.\n",
        "\n",
        "dicionario = {}\n",
        "numero = int(input(\"Digite um valor inteiro: \"))\n",
        "\n",
        "for i in range(0, numero+1, 1):\n",
        "  dicionario[i] = i*i\n",
        "\n",
        "print(dicionario)"
      ],
      "metadata": {
        "colab": {
          "base_uri": "https://localhost:8080/"
        },
        "id": "lbLSKT4gX5S_",
        "outputId": "e396b5c8-0413-4685-c7ca-085fd8f39d06"
      },
      "execution_count": 8,
      "outputs": [
        {
          "output_type": "stream",
          "name": "stdout",
          "text": [
            "Digite um valor inteiro: 6\n",
            "{0: 0, 1: 1, 2: 4, 3: 9, 4: 16, 5: 25, 6: 36}\n"
          ]
        }
      ]
    },
    {
      "cell_type": "code",
      "source": [
        "#4.3 Faça um programa que pergunte para um gerente de uma lanchonete se ele deseja remover, adicionar ou modificar o valor  de um produto do cardápio,\n",
        "#apenas encerrando o algoritmo quando o usuário decidir.\n",
        "#No final mostre o cardápio com as modificações.\n",
        "\n",
        "cardapio = {\"Coxinha\": 5.00, \"Pastel\": 4.00, \"Suco\": 3.50, \"Bolo\": 4.50}\n",
        "\n",
        "decisao = input(\"Você quer modificar o cardápio [S] ou [N]? \")\n",
        "\n",
        "while decisao ==\"S\":\n",
        "  pergunta = input(\"Você deseja [A]Adicionar, [R]Remover ou [M]Modificar: \")\n",
        "\n",
        "  if pergunta==\"A\":\n",
        "    nome = input(\"Qual o nome do produto: \")\n",
        "    valor = float(input(\"Digite o valor do produto: \"))\n",
        "    cardapio[nome] = valor\n",
        "  elif pergunta==\"R\":\n",
        "    nome = input(\"Qual o nome do produto que deseja remover? \")\n",
        "    cardapio.pop(nome, \"Não encontrado\")\n",
        "  elif pergunta==\"M\":\n",
        "    nome = input(\"Qual o nome do produto que deseja alterar? \")\n",
        "    valor = float(input(\"Qual será o novo valor do produto? \"))\n",
        "    if cardapio.get(nome):\n",
        "      cardapio[nome] = valor\n",
        "  else:\n",
        "    print(\"Nome inválido\")\n",
        "\n",
        "  decisao = input(\"\\nVocê deseja continuar [S] ou [N]? \")\n",
        "\n",
        "print(cardapio)\n",
        "\n",
        "\n",
        "\n"
      ],
      "metadata": {
        "colab": {
          "base_uri": "https://localhost:8080/"
        },
        "id": "ic-NaKuhgV4k",
        "outputId": "a71327f1-bd8f-4ce6-b1df-527956591831"
      },
      "execution_count": 9,
      "outputs": [
        {
          "output_type": "stream",
          "name": "stdout",
          "text": [
            "Você quer modificar o cardápio [S] ou [N]? S\n",
            "Você deseja [A]Adicionar, [R]Remover ou [M]Modificar: A\n",
            "Qual o nome do produto: Doce de leite\n",
            "Digite o valor do produto: 6.00\n",
            "\n",
            "Você deseja continuar [S] ou [N]? N\n",
            "{'Coxinha': 5.0, 'Pastel': 4.0, 'Suco': 3.5, 'Bolo': 4.5, 'Doce de leite': 6.0}\n"
          ]
        }
      ]
    }
  ]
}