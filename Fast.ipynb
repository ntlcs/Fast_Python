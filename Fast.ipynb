{
  "nbformat": 4,
  "nbformat_minor": 0,
  "metadata": {
    "colab": {
      "provenance": [],
      "toc_visible": true,
      "authorship_tag": "ABX9TyPCJ9OJQBY5TxZDeB49ik61",
      "include_colab_link": true
    },
    "kernelspec": {
      "name": "python3",
      "display_name": "Python 3"
    },
    "language_info": {
      "name": "python"
    }
  },
  "cells": [
    {
      "cell_type": "markdown",
      "metadata": {
        "id": "view-in-github",
        "colab_type": "text"
      },
      "source": [
        "<a href=\"https://colab.research.google.com/github/ntlcs/Fast_Python/blob/main/Fast.ipynb\" target=\"_parent\"><img src=\"https://colab.research.google.com/assets/colab-badge.svg\" alt=\"Open In Colab\"/></a>"
      ]
    },
    {
      "cell_type": "code",
      "execution_count": 2,
      "metadata": {
        "id": "nsTqOXNlNvgC",
        "colab": {
          "base_uri": "https://localhost:8080/"
        },
        "outputId": "9a751c71-f34d-48d9-ab01-9b7bf865177f"
      },
      "outputs": [
        {
          "output_type": "stream",
          "name": "stdout",
          "text": [
            "Digite o seu nome: Marcio\n",
            "Digite o seu salário fixo: 1500\n",
            "Digite a quantidade de aulas:5\n",
            "O professor Marcio recebe um salário de R$  1500.0 e ministra  5 por mês \n",
            "\n"
          ]
        }
      ],
      "source": [
        "#Desenvolva um programa em que o professor possa inserir o seu nome, o seu salário fixo, e o total de aulas que ele ministra por mês. Após isso, exiba na tela as informações.\n",
        "\n",
        "nome = input(\"Digite o seu nome: \")\n",
        "salario = float(input(\"Digite o seu salário fixo: \"))\n",
        "aulas = int(input(\"Digite a quantidade de aulas:\"))\n",
        "\n",
        "print(\"O professor\", nome, \"recebe um salário de R$ \", salario, \"e ministra \", aulas, \"por mês \\n\")\n",
        "\n"
      ]
    },
    {
      "cell_type": "code",
      "source": [
        "#Desenvolva um programa que declare duas variáveis chamadas altura e peso. A essas variáveis , atribua os valores 1.65 e 56kg.\n",
        "#Na sequência, peça ao usuário para inserir a informação se ele pratica atividades físicas e quantos litros de água ele bebe por dia.\n",
        "#Exiba todas as informações na tela.\n",
        "\n",
        "altura = 1.65\n",
        "peso = 56.0\n",
        "\n",
        "atividade  =input(\"Você pratica atividade física?  \")\n",
        "litros = float(input(\"Quantos litros de água você bebe por dia? \"))\n",
        "\n",
        "print (\"O jovem de \", altura, \"de altura e\", peso, \"kg, ele pratica atividade fisica?\", atividade, \"e bebe\", litros, \"de água por dia \\n \")\n"
      ],
      "metadata": {
        "colab": {
          "base_uri": "https://localhost:8080/"
        },
        "id": "APtJSOMhP6z2",
        "outputId": "bd3fe047-44c9-42b8-eebf-c706a07a1fc8"
      },
      "execution_count": 3,
      "outputs": [
        {
          "output_type": "stream",
          "name": "stdout",
          "text": [
            "Você pratica atividade física?  sim\n",
            "Quantos litros de água você bebe por dia? 2\n",
            "O jovem de  1.65 de altura e 56.0 kg, ele pratica atividade fisica? sim e bebe 2.0 de água por dia \n",
            " \n"
          ]
        }
      ]
    }
  ]
}